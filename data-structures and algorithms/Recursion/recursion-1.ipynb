{
 "cells": [
  {
   "cell_type": "code",
   "execution_count": 1,
   "id": "3c7e4e1d",
   "metadata": {
    "_cell_guid": "b1076dfc-b9ad-4769-8c92-a6c4dae69d19",
    "_uuid": "8f2839f25d086af736a60e9eeb907d3b93b6e0e5",
    "execution": {
     "iopub.execute_input": "2022-09-06T16:07:18.425267Z",
     "iopub.status.busy": "2022-09-06T16:07:18.424786Z",
     "iopub.status.idle": "2022-09-06T16:07:18.437872Z",
     "shell.execute_reply": "2022-09-06T16:07:18.436605Z"
    },
    "papermill": {
     "duration": 0.023197,
     "end_time": "2022-09-06T16:07:18.440610",
     "exception": false,
     "start_time": "2022-09-06T16:07:18.417413",
     "status": "completed"
    },
    "tags": []
   },
   "outputs": [],
   "source": [
    "import numpy as np # linear algebra\n",
    "import pandas as pd # data processing, CSV file I/O (e.g. pd.read_csv)"
   ]
  },
  {
   "cell_type": "markdown",
   "id": "9dbf2461",
   "metadata": {
    "papermill": {
     "duration": 0.004377,
     "end_time": "2022-09-06T16:07:18.449863",
     "exception": false,
     "start_time": "2022-09-06T16:07:18.445486",
     "status": "completed"
    },
    "tags": []
   },
   "source": [
    "# Recursion - Basic"
   ]
  },
  {
   "cell_type": "markdown",
   "id": "e6b81003",
   "metadata": {
    "papermill": {
     "duration": 0.004232,
     "end_time": "2022-09-06T16:07:18.458631",
     "exception": false,
     "start_time": "2022-09-06T16:07:18.454399",
     "status": "completed"
    },
    "tags": []
   },
   "source": [
    "### Power of a number"
   ]
  },
  {
   "cell_type": "code",
   "execution_count": 2,
   "id": "1da410bd",
   "metadata": {
    "execution": {
     "iopub.execute_input": "2022-09-06T16:07:18.470434Z",
     "iopub.status.busy": "2022-09-06T16:07:18.469917Z",
     "iopub.status.idle": "2022-09-06T16:07:18.551563Z",
     "shell.execute_reply": "2022-09-06T16:07:18.549850Z"
    },
    "papermill": {
     "duration": 0.090505,
     "end_time": "2022-09-06T16:07:18.553691",
     "exception": true,
     "start_time": "2022-09-06T16:07:18.463186",
     "status": "failed"
    },
    "tags": []
   },
   "outputs": [
    {
     "ename": "StdinNotImplementedError",
     "evalue": "raw_input was called, but this frontend does not support input requests.",
     "output_type": "error",
     "traceback": [
      "\u001b[0;31m---------------------------------------------------------------------------\u001b[0m",
      "\u001b[0;31mStdinNotImplementedError\u001b[0m                  Traceback (most recent call last)",
      "\u001b[0;32m/tmp/ipykernel_19/1927803680.py\u001b[0m in \u001b[0;36m<module>\u001b[0;34m\u001b[0m\n\u001b[0;32m----> 1\u001b[0;31m \u001b[0ma\u001b[0m\u001b[0;34m,\u001b[0m \u001b[0mb\u001b[0m \u001b[0;34m=\u001b[0m \u001b[0minput\u001b[0m\u001b[0;34m(\u001b[0m\u001b[0;34m)\u001b[0m\u001b[0;34m.\u001b[0m\u001b[0msplit\u001b[0m\u001b[0;34m(\u001b[0m\u001b[0;34m)\u001b[0m \u001b[0;31m# eg - '3, 8'\u001b[0m\u001b[0;34m\u001b[0m\u001b[0;34m\u001b[0m\u001b[0m\n\u001b[0m\u001b[1;32m      2\u001b[0m \u001b[0ma\u001b[0m \u001b[0;34m=\u001b[0m \u001b[0mint\u001b[0m\u001b[0;34m(\u001b[0m\u001b[0ma\u001b[0m\u001b[0;34m)\u001b[0m\u001b[0;34m\u001b[0m\u001b[0;34m\u001b[0m\u001b[0m\n\u001b[1;32m      3\u001b[0m \u001b[0mb\u001b[0m \u001b[0;34m=\u001b[0m \u001b[0mint\u001b[0m\u001b[0;34m(\u001b[0m\u001b[0mb\u001b[0m\u001b[0;34m)\u001b[0m\u001b[0;34m\u001b[0m\u001b[0;34m\u001b[0m\u001b[0m\n\u001b[1;32m      4\u001b[0m \u001b[0;34m\u001b[0m\u001b[0m\n\u001b[1;32m      5\u001b[0m \u001b[0;32mdef\u001b[0m \u001b[0mget_power\u001b[0m\u001b[0;34m(\u001b[0m\u001b[0ma\u001b[0m\u001b[0;34m,\u001b[0m \u001b[0mb\u001b[0m\u001b[0;34m)\u001b[0m\u001b[0;34m:\u001b[0m\u001b[0;34m\u001b[0m\u001b[0;34m\u001b[0m\u001b[0m\n",
      "\u001b[0;32m/opt/conda/lib/python3.7/site-packages/ipykernel/kernelbase.py\u001b[0m in \u001b[0;36mraw_input\u001b[0;34m(self, prompt)\u001b[0m\n\u001b[1;32m   1173\u001b[0m         \u001b[0;32mif\u001b[0m \u001b[0;32mnot\u001b[0m \u001b[0mself\u001b[0m\u001b[0;34m.\u001b[0m\u001b[0m_allow_stdin\u001b[0m\u001b[0;34m:\u001b[0m\u001b[0;34m\u001b[0m\u001b[0;34m\u001b[0m\u001b[0m\n\u001b[1;32m   1174\u001b[0m             raise StdinNotImplementedError(\n\u001b[0;32m-> 1175\u001b[0;31m                 \u001b[0;34m\"raw_input was called, but this frontend does not support input requests.\"\u001b[0m\u001b[0;34m\u001b[0m\u001b[0;34m\u001b[0m\u001b[0m\n\u001b[0m\u001b[1;32m   1176\u001b[0m             )\n\u001b[1;32m   1177\u001b[0m         return self._input_request(\n",
      "\u001b[0;31mStdinNotImplementedError\u001b[0m: raw_input was called, but this frontend does not support input requests."
     ]
    }
   ],
   "source": [
    "a, b = input().split() # eg - '3, 8'\n",
    "a = int(a)\n",
    "b = int(b)\n",
    "\n",
    "def get_power(a, b):\n",
    "    if b==1: return a\n",
    "    elif a==0 or b==0: return 1\n",
    "    return a * (get_power(a, b-1))\n",
    "\n",
    "print(get_power(a, b))"
   ]
  },
  {
   "cell_type": "code",
   "execution_count": null,
   "id": "bdc5eea4",
   "metadata": {
    "execution": {
     "iopub.execute_input": "2022-09-05T12:18:05.640224Z",
     "iopub.status.busy": "2022-09-05T12:18:05.639037Z",
     "iopub.status.idle": "2022-09-05T12:18:05.653555Z",
     "shell.execute_reply": "2022-09-05T12:18:05.652417Z",
     "shell.execute_reply.started": "2022-09-05T12:18:05.640177Z"
    },
    "papermill": {
     "duration": null,
     "end_time": null,
     "exception": null,
     "start_time": null,
     "status": "pending"
    },
    "tags": []
   },
   "outputs": [],
   "source": [
    "# Check if list is sorted\n",
    "def is_sorted(listt):\n",
    "    list_len = len(listt)\n",
    "    if list_len<=1: return True\n",
    "\n",
    "    if listt[0]>listt[1]: return False\n",
    "    print(listt[1:])\n",
    "    return is_sorted(listt[1:])\n",
    "\n",
    "\n",
    "# Instead of working on list directly and creating copies, we can work using indexes.\n",
    "def is_sorted_better(listt, si):\n",
    "    listt_len = len(listt)\n",
    "    if si==listt_len-1 or si==listt_len:\n",
    "        return True\n",
    "\n",
    "    if listt[si]>listt[si+1]:\n",
    "        return False\n",
    "\n",
    "    is_it_sorted = is_sorted_better(listt, si+1)\n",
    "    return is_it_sorted\n",
    "\n",
    "is_sorted_better([1,2,3,4,5,2], 0)"
   ]
  },
  {
   "cell_type": "code",
   "execution_count": null,
   "id": "10707a3e",
   "metadata": {
    "papermill": {
     "duration": null,
     "end_time": null,
     "exception": null,
     "start_time": null,
     "status": "pending"
    },
    "tags": []
   },
   "outputs": [],
   "source": [
    "# Some of array elements\n",
    "def sumArray(arr):\n",
    "    # Please add your code here    \n",
    "    if len(arr)==0: return 0\n",
    "\n",
    "    sum = arr[0] + sumArray(arr[1:])\n",
    "    return sum\n",
    "\n",
    "# Main\n",
    "from sys import setrecursionlimit\n",
    "setrecursionlimit(11000)\n",
    "n=int(input())\n",
    "arr=list(int(i) for i in input().strip().split(' '))\n",
    "print(sumArray(arr))"
   ]
  },
  {
   "cell_type": "code",
   "execution_count": null,
   "id": "f576ab8f",
   "metadata": {
    "execution": {
     "iopub.execute_input": "2022-09-05T12:27:00.438317Z",
     "iopub.status.busy": "2022-09-05T12:27:00.437890Z",
     "iopub.status.idle": "2022-09-05T12:27:00.448307Z",
     "shell.execute_reply": "2022-09-05T12:27:00.446791Z",
     "shell.execute_reply.started": "2022-09-05T12:27:00.438282Z"
    },
    "papermill": {
     "duration": null,
     "end_time": null,
     "exception": null,
     "start_time": null,
     "status": "pending"
    },
    "tags": []
   },
   "outputs": [],
   "source": [
    "# Number search : Search x in list 'arr'\n",
    "def checkNumber(arr, x):\n",
    "    # Please add your code here\n",
    "    if len(arr)==0: \n",
    "        return False\n",
    "\n",
    "    if arr[0]==x: \n",
    "        return True\n",
    "#     print(arr[0],x,arr[0]==x)\n",
    "    return checkNumber(arr[1:], x)\n",
    "\n",
    "\n",
    "# Main\n",
    "from sys import setrecursionlimit\n",
    "setrecursionlimit(11000)\n",
    "arr = [3,4,5,6,72]\n",
    "x = 4\n",
    "if checkNumber(arr, x):\n",
    "    print('true')\n",
    "else:\n",
    "    print('false')"
   ]
  },
  {
   "cell_type": "code",
   "execution_count": null,
   "id": "86da3847",
   "metadata": {
    "execution": {
     "iopub.execute_input": "2022-09-05T12:29:49.628428Z",
     "iopub.status.busy": "2022-09-05T12:29:49.627986Z",
     "iopub.status.idle": "2022-09-05T12:29:49.638479Z",
     "shell.execute_reply": "2022-09-05T12:29:49.637293Z",
     "shell.execute_reply.started": "2022-09-05T12:29:49.628394Z"
    },
    "papermill": {
     "duration": null,
     "end_time": null,
     "exception": null,
     "start_time": null,
     "status": "pending"
    },
    "tags": []
   },
   "outputs": [],
   "source": [
    "# Find the first index of a matching number in the list\n",
    "\n",
    "def find_first_index(arr, item, si=0):\n",
    "    arr_len = len(arr)\n",
    "    if si==arr_len:\n",
    "        return -1\n",
    "    if arr[si]==item:\n",
    "        return si\n",
    "    index = find_first_index(arr, item, si+1)\n",
    "    return index\n",
    "\n",
    "arr = [2, 5, 6, 7, 8, 3, 5, 7, 8, 8, 10, 3, 4]\n",
    "item = 8\n",
    "find_first_index(arr, item)"
   ]
  },
  {
   "cell_type": "code",
   "execution_count": null,
   "id": "e71aea83",
   "metadata": {
    "execution": {
     "iopub.execute_input": "2022-09-05T13:04:20.806258Z",
     "iopub.status.busy": "2022-09-05T13:04:20.805844Z",
     "iopub.status.idle": "2022-09-05T13:04:20.816738Z",
     "shell.execute_reply": "2022-09-05T13:04:20.815747Z",
     "shell.execute_reply.started": "2022-09-05T13:04:20.806225Z"
    },
    "papermill": {
     "duration": null,
     "end_time": null,
     "exception": null,
     "start_time": null,
     "status": "pending"
    },
    "tags": []
   },
   "outputs": [],
   "source": [
    "# Find the first index of a matching number in the list\n",
    "\n",
    "def find_last_index(arr, item, last_ind):\n",
    "    arr_len = len(arr)\n",
    "    if last_ind==0:\n",
    "        return -1\n",
    "    if arr[last_ind]==item:\n",
    "        return last_ind\n",
    "    match_index = find_last_index(arr, item, last_ind-1)\n",
    "    print(match_index)\n",
    "    return match_index\n",
    "\n",
    "arr = [2, 5, 6, 7, 8, 3, 5, 7, 8, 6, 10, 3, 4]\n",
    "item = 6\n",
    "find_last_index(arr, item, len(arr)-1)"
   ]
  },
  {
   "cell_type": "markdown",
   "id": "df371958",
   "metadata": {
    "execution": {
     "iopub.execute_input": "2022-09-06T05:41:09.203483Z",
     "iopub.status.busy": "2022-09-06T05:41:09.202936Z",
     "iopub.status.idle": "2022-09-06T05:41:09.225860Z",
     "shell.execute_reply": "2022-09-06T05:41:09.224914Z",
     "shell.execute_reply.started": "2022-09-06T05:41:09.203368Z"
    },
    "papermill": {
     "duration": null,
     "end_time": null,
     "exception": null,
     "start_time": null,
     "status": "pending"
    },
    "tags": []
   },
   "source": [
    "# Recursion 2 - Strings"
   ]
  },
  {
   "cell_type": "code",
   "execution_count": null,
   "id": "08e3c486",
   "metadata": {
    "execution": {
     "iopub.execute_input": "2022-09-06T06:17:28.147469Z",
     "iopub.status.busy": "2022-09-06T06:17:28.147066Z",
     "iopub.status.idle": "2022-09-06T06:17:28.157723Z",
     "shell.execute_reply": "2022-09-06T06:17:28.156524Z",
     "shell.execute_reply.started": "2022-09-06T06:17:28.147437Z"
    },
    "papermill": {
     "duration": null,
     "end_time": null,
     "exception": null,
     "start_time": null,
     "status": "pending"
    },
    "tags": []
   },
   "outputs": [],
   "source": [
    "# Replace specific char in a given string\n",
    "\n",
    "def replace_char(ip_str, source_char, target_char):\n",
    "    if len(ip_str)==0:\n",
    "        return ip_str\n",
    "\n",
    "    remaining_str = replace_char(ip_str[1:], source_char, target_char)\n",
    "    # print(ip_str[0], remaining_str)\n",
    "    if ip_str[0]==source_char:\n",
    "        return target_char+remaining_str\n",
    "    else:\n",
    "        return ip_str[0]+remaining_str\n",
    "\n",
    "replace_char('amardeep chauhan', 'a', 'A')"
   ]
  },
  {
   "cell_type": "code",
   "execution_count": null,
   "id": "6d6936f2",
   "metadata": {
    "papermill": {
     "duration": null,
     "end_time": null,
     "exception": null,
     "start_time": null,
     "status": "pending"
    },
    "tags": []
   },
   "outputs": [],
   "source": [
    "# Problem: Remove x from string\n",
    "def removeX(string): \n",
    "    if len(string)==0:\n",
    "        return string\n",
    "    \n",
    "    remaining_str = removeX(string[1:])\n",
    "    # print(string[0], remaining_str)\n",
    "    if string[0]=='x':\n",
    "        return remaining_str\n",
    "    else:\n",
    "        return string[0]+remaining_str\n",
    "\n",
    "# Main\n",
    "string = input()\n",
    "print(removeX(string))"
   ]
  },
  {
   "cell_type": "code",
   "execution_count": null,
   "id": "cc96d97f",
   "metadata": {
    "execution": {
     "iopub.execute_input": "2022-09-06T07:29:15.419002Z",
     "iopub.status.busy": "2022-09-06T07:29:15.418551Z",
     "iopub.status.idle": "2022-09-06T07:29:17.622566Z",
     "shell.execute_reply": "2022-09-06T07:29:17.621248Z",
     "shell.execute_reply.started": "2022-09-06T07:29:15.418970Z"
    },
    "papermill": {
     "duration": null,
     "end_time": null,
     "exception": null,
     "start_time": null,
     "status": "pending"
    },
    "tags": []
   },
   "outputs": [],
   "source": [
    "# Problem: replace pi with 3.14 in a given string\n",
    "def replace_pi(string): \n",
    "    if len(string)<=1:\n",
    "        return string\n",
    "\n",
    "    if string[:2]=='pi':\n",
    "        remaining_str = replace_pi(string[2:])\n",
    "        return '3.14'+remaining_str\n",
    "    else:\n",
    "        remaining_str = replace_pi(string[1:])\n",
    "        return string[0]+remaining_str\n",
    "\n",
    "# Main\n",
    "string = input()\n",
    "print('Input - ',string)\n",
    "print('Output - ',replace_pi(string))"
   ]
  },
  {
   "cell_type": "code",
   "execution_count": null,
   "id": "acd780c2",
   "metadata": {
    "papermill": {
     "duration": null,
     "end_time": null,
     "exception": null,
     "start_time": null,
     "status": "pending"
    },
    "tags": []
   },
   "outputs": [],
   "source": [
    "# Problem ID 91, removeConsecutiveDuplicates\n",
    "def removeConsecutiveDuplicates(string):\n",
    "    # Please add your code here\n",
    "    if len(string)==0:\n",
    "        return string\n",
    "\n",
    "    if string[0]==string[1]:\n",
    "        remaining = removeConsecutiveDuplicates(string[2:])\n",
    "        # print(string[:2],remaining)\n",
    "        if len(remaining)>0 and string[0]==remaining[0]:\n",
    "            return remaining\n",
    "\n",
    "        return string[0]+remaining\n",
    "    else:\n",
    "        remaining = removeConsecutiveDuplicates(string[1:])\n",
    "        # print(string[:2],remaining)\n",
    "        return string[0]+remaining\n",
    "\n",
    "\n",
    "# Problem ID 91, removeConsecutiveDuplicates\n",
    "def removeConsecutiveDuplicates(string):\n",
    "    # Please add your code here\n",
    "    if len(string)<=1:\n",
    "        return string\n",
    "\n",
    "    if string[0]!=string[1]:\n",
    "        return string[0] + removeConsecutiveDuplicates(string[1:]\n",
    "    return removeConsecutiveDuplicates(string[1:] \n",
    "    \n",
    "# Main\n",
    "string = input().strip()\n",
    "print(removeConsecutiveDuplicates(string))"
   ]
  },
  {
   "cell_type": "code",
   "execution_count": null,
   "id": "c91acf68",
   "metadata": {
    "execution": {
     "iopub.execute_input": "2022-09-06T10:17:06.481833Z",
     "iopub.status.busy": "2022-09-06T10:17:06.481447Z",
     "iopub.status.idle": "2022-09-06T10:17:06.492374Z",
     "shell.execute_reply": "2022-09-06T10:17:06.491112Z",
     "shell.execute_reply.started": "2022-09-06T10:17:06.481801Z"
    },
    "papermill": {
     "duration": null,
     "end_time": null,
     "exception": null,
     "start_time": null,
     "status": "pending"
    },
    "tags": []
   },
   "outputs": [],
   "source": [
    "# Binary Search\n",
    "def binary_search(arr, item, left, right):\n",
    "    if left > right:\n",
    "        return -1\n",
    "    \n",
    "    middle = (left + right)//2\n",
    "\n",
    "    if arr[middle]==item:\n",
    "        return middle\n",
    "    elif arr[middle]>item:\n",
    "        return binary_search(arr, item, left, middle-1)\n",
    "    else:\n",
    "        return binary_search(arr, item, middle+1, right)\n",
    "\n",
    "arr = [1, 3, 5, 6, 7, 9, 10, 12]\n",
    "item = 12\n",
    "binary_search(arr, item, 0, len(arr)-1)\n"
   ]
  },
  {
   "cell_type": "code",
   "execution_count": null,
   "id": "d5e32a93",
   "metadata": {
    "execution": {
     "iopub.execute_input": "2022-09-06T14:15:14.577973Z",
     "iopub.status.busy": "2022-09-06T14:15:14.577554Z",
     "iopub.status.idle": "2022-09-06T14:15:14.590016Z",
     "shell.execute_reply": "2022-09-06T14:15:14.588958Z",
     "shell.execute_reply.started": "2022-09-06T14:15:14.577937Z"
    },
    "papermill": {
     "duration": null,
     "end_time": null,
     "exception": null,
     "start_time": null,
     "status": "pending"
    },
    "tags": []
   },
   "outputs": [],
   "source": [
    "# Merge Sort - Modify input arr \n",
    "def merge_sorted_list(l_list, r_list, arr):\n",
    "    # merge sorted list\n",
    "    l = 0 \n",
    "    r = 0\n",
    "    k = 0\n",
    "    while l<len(l_list) and r<len(r_list):\n",
    "        if l_list[l]<r_list[r]:\n",
    "            arr[k] = l_list[l]\n",
    "            l += 1\n",
    "            k += 1\n",
    "        else:\n",
    "            arr[k] = r_list[r]\n",
    "            r += 1\n",
    "            k += 1\n",
    "\n",
    "    while l<len(l_list):\n",
    "        arr[k] = l_list[l]\n",
    "        l += 1\n",
    "        k += 1\n",
    "\n",
    "    while r<len(r_list):\n",
    "        arr[k] = r_list[r]\n",
    "        r += 1\n",
    "        k += 1\n",
    "\n",
    "def mergeSort(arr):\n",
    "    # Please add your code here\n",
    "    if len(arr)<=1: \n",
    "        return arr\n",
    "    mid = len(arr)//2\n",
    "    left_list = arr[:mid]\n",
    "    right_list = arr[mid:]\n",
    "\n",
    "    mergeSort(left_list)\n",
    "    mergeSort(right_list)\n",
    "\n",
    "    merge_sorted_list(left_list, right_list, arr)\n",
    "\n",
    "# Main\n",
    "# n=int(input())\n",
    "arr= list([2, 3, 0, 10, 9, 7, 5, 8, 90, 87]) # list(int(i) for i in input().strip().split(' '))\n",
    "mergeSort(arr)\n",
    "print(*arr)"
   ]
  },
  {
   "cell_type": "code",
   "execution_count": null,
   "id": "2451bf93",
   "metadata": {
    "papermill": {
     "duration": null,
     "end_time": null,
     "exception": null,
     "start_time": null,
     "status": "pending"
    },
    "tags": []
   },
   "outputs": [],
   "source": [
    "# Quick Sort - Merge sort was not really doing much, it was just recursively dividing & merging the list, through function calls. On the other hand, quick sort, performs the first operation on it's own, that is, finding the first pivot element position, then performs the recursive calls to perform the similar operation on left and right partitions.\n",
    "def partition(arr, start, end):\n",
    "\tpivot_pos = start # init the point at the available start of array\n",
    "\tpivot_elem = arr[start]\n",
    "\tl=start\n",
    "\twhile l<end+1:\n",
    "\t\tif arr[l]<pivot_elem:\n",
    "\t\t\tpivot_pos += 1\n",
    "\t\tl += 1\n",
    "\t# print('pivot_pos',pivot_pos)\n",
    "\tarr[pivot_pos], arr[start] = arr[start], arr[pivot_pos]\n",
    "\ti = start\n",
    "\tj = end\n",
    "\twhile i<j:\n",
    "\t\tif arr[i]<pivot_elem: # i is at the right position\n",
    "\t\t\ti += 1\n",
    "\t\telif arr[j]>=pivot_elem: # j is at the right position\n",
    "\t\t\tj -= 1\n",
    "\t\telse: #Swapping needed \n",
    "\t\t\tarr[i], arr[j] = arr[j], arr[i]\n",
    "\t\t\ti += 1\n",
    "\t\t\tj -= 1\n",
    "\treturn pivot_pos\n",
    "\n",
    "def quickSort(arr, start, end):\n",
    "\t# Please add your code here\n",
    "\tif start>=end:\n",
    "\t\treturn\n",
    "\n",
    "\tpivot = partition(arr, start, end)\n",
    "\tquickSort(arr, start, pivot-1)\n",
    "\tquickSort(arr, pivot+1, end)\n",
    "\n",
    "n=int(input())\n",
    "arr=list(int(i) for i in input().strip().split(' '))\n",
    "quickSort(arr, 0, n-1)\n",
    "print(*arr)\n"
   ]
  }
 ],
 "metadata": {
  "kernelspec": {
   "display_name": "Python 3",
   "language": "python",
   "name": "python3"
  },
  "language_info": {
   "codemirror_mode": {
    "name": "ipython",
    "version": 3
   },
   "file_extension": ".py",
   "mimetype": "text/x-python",
   "name": "python",
   "nbconvert_exporter": "python",
   "pygments_lexer": "ipython3",
   "version": "3.7.12"
  },
  "papermill": {
   "default_parameters": {},
   "duration": 10.352688,
   "end_time": "2022-09-06T16:07:19.180120",
   "environment_variables": {},
   "exception": true,
   "input_path": "__notebook__.ipynb",
   "output_path": "__notebook__.ipynb",
   "parameters": {},
   "start_time": "2022-09-06T16:07:08.827432",
   "version": "2.3.4"
  }
 },
 "nbformat": 4,
 "nbformat_minor": 5
}
